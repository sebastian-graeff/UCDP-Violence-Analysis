{
 "cells": [
  {
   "cell_type": "markdown",
   "metadata": {},
   "source": [
    "# UCDP Dataset"
   ]
  },
  {
   "cell_type": "code",
   "execution_count": 21,
   "metadata": {},
   "outputs": [],
   "source": [
    "# Import all necessary packages\n",
    "import pandas as pd\n",
    "import missingno as msno\n",
    "import matplotlib.pyplot as plt"
   ]
  },
  {
   "cell_type": "markdown",
   "metadata": {},
   "source": [
    "## Explore the data"
   ]
  },
  {
   "cell_type": "code",
   "execution_count": 22,
   "metadata": {},
   "outputs": [
    {
     "data": {
      "text/html": [
       "<div>\n",
       "<style scoped>\n",
       "    .dataframe tbody tr th:only-of-type {\n",
       "        vertical-align: middle;\n",
       "    }\n",
       "\n",
       "    .dataframe tbody tr th {\n",
       "        vertical-align: top;\n",
       "    }\n",
       "\n",
       "    .dataframe thead th {\n",
       "        text-align: right;\n",
       "    }\n",
       "</style>\n",
       "<table border=\"1\" class=\"dataframe\">\n",
       "  <thead>\n",
       "    <tr style=\"text-align: right;\">\n",
       "      <th></th>\n",
       "      <th>id</th>\n",
       "      <th>year</th>\n",
       "      <th>active_year</th>\n",
       "      <th>type_of_violence</th>\n",
       "      <th>conflict_new_id</th>\n",
       "      <th>conflict_name</th>\n",
       "      <th>dyad_new_id</th>\n",
       "      <th>dyad_name</th>\n",
       "      <th>side_a_new_id</th>\n",
       "      <th>gwnoa</th>\n",
       "      <th>...</th>\n",
       "      <th>date_prec</th>\n",
       "      <th>date_start</th>\n",
       "      <th>date_end</th>\n",
       "      <th>deaths_a</th>\n",
       "      <th>deaths_b</th>\n",
       "      <th>deaths_civilians</th>\n",
       "      <th>deaths_unknown</th>\n",
       "      <th>low</th>\n",
       "      <th>best</th>\n",
       "      <th>high</th>\n",
       "    </tr>\n",
       "  </thead>\n",
       "  <tbody>\n",
       "    <tr>\n",
       "      <th>0</th>\n",
       "      <td>67972</td>\n",
       "      <td>2013</td>\n",
       "      <td>1</td>\n",
       "      <td>1</td>\n",
       "      <td>11347</td>\n",
       "      <td>Mali: Government</td>\n",
       "      <td>12571</td>\n",
       "      <td>Government of Mali - MUJAO</td>\n",
       "      <td>72</td>\n",
       "      <td>432.0</td>\n",
       "      <td>...</td>\n",
       "      <td>2</td>\n",
       "      <td>2013-01-11</td>\n",
       "      <td>2013-01-12</td>\n",
       "      <td>12</td>\n",
       "      <td>16</td>\n",
       "      <td>3</td>\n",
       "      <td>0</td>\n",
       "      <td>31</td>\n",
       "      <td>31</td>\n",
       "      <td>50</td>\n",
       "    </tr>\n",
       "    <tr>\n",
       "      <th>1</th>\n",
       "      <td>23385</td>\n",
       "      <td>2004</td>\n",
       "      <td>1</td>\n",
       "      <td>3</td>\n",
       "      <td>583</td>\n",
       "      <td>FNI - Civilians</td>\n",
       "      <td>1050</td>\n",
       "      <td>FNI - Civilians</td>\n",
       "      <td>606</td>\n",
       "      <td>NaN</td>\n",
       "      <td>...</td>\n",
       "      <td>2</td>\n",
       "      <td>2004-01-14</td>\n",
       "      <td>2004-01-16</td>\n",
       "      <td>0</td>\n",
       "      <td>0</td>\n",
       "      <td>200</td>\n",
       "      <td>0</td>\n",
       "      <td>100</td>\n",
       "      <td>200</td>\n",
       "      <td>200</td>\n",
       "    </tr>\n",
       "    <tr>\n",
       "      <th>2</th>\n",
       "      <td>24255</td>\n",
       "      <td>2007</td>\n",
       "      <td>0</td>\n",
       "      <td>2</td>\n",
       "      <td>4600</td>\n",
       "      <td>CNDP - PARECO</td>\n",
       "      <td>5210</td>\n",
       "      <td>CNDP - PARECO</td>\n",
       "      <td>426</td>\n",
       "      <td>NaN</td>\n",
       "      <td>...</td>\n",
       "      <td>2</td>\n",
       "      <td>2007-12-13</td>\n",
       "      <td>2007-12-18</td>\n",
       "      <td>0</td>\n",
       "      <td>0</td>\n",
       "      <td>4</td>\n",
       "      <td>0</td>\n",
       "      <td>4</td>\n",
       "      <td>4</td>\n",
       "      <td>4</td>\n",
       "    </tr>\n",
       "    <tr>\n",
       "      <th>3</th>\n",
       "      <td>82612</td>\n",
       "      <td>2008</td>\n",
       "      <td>1</td>\n",
       "      <td>1</td>\n",
       "      <td>364</td>\n",
       "      <td>India: Kashmir</td>\n",
       "      <td>792</td>\n",
       "      <td>Government of India - Kashmir insurgents</td>\n",
       "      <td>141</td>\n",
       "      <td>750.0</td>\n",
       "      <td>...</td>\n",
       "      <td>2</td>\n",
       "      <td>2008-03-04</td>\n",
       "      <td>2008-03-05</td>\n",
       "      <td>0</td>\n",
       "      <td>2</td>\n",
       "      <td>0</td>\n",
       "      <td>0</td>\n",
       "      <td>2</td>\n",
       "      <td>2</td>\n",
       "      <td>2</td>\n",
       "    </tr>\n",
       "    <tr>\n",
       "      <th>4</th>\n",
       "      <td>82645</td>\n",
       "      <td>2008</td>\n",
       "      <td>1</td>\n",
       "      <td>1</td>\n",
       "      <td>364</td>\n",
       "      <td>India: Kashmir</td>\n",
       "      <td>792</td>\n",
       "      <td>Government of India - Kashmir insurgents</td>\n",
       "      <td>141</td>\n",
       "      <td>750.0</td>\n",
       "      <td>...</td>\n",
       "      <td>2</td>\n",
       "      <td>2008-06-30</td>\n",
       "      <td>2008-07-01</td>\n",
       "      <td>1</td>\n",
       "      <td>11</td>\n",
       "      <td>0</td>\n",
       "      <td>0</td>\n",
       "      <td>12</td>\n",
       "      <td>12</td>\n",
       "      <td>12</td>\n",
       "    </tr>\n",
       "  </tbody>\n",
       "</table>\n",
       "<p>5 rows × 42 columns</p>\n",
       "</div>"
      ],
      "text/plain": [
       "      id  year  active_year  type_of_violence  conflict_new_id  \\\n",
       "0  67972  2013            1                 1            11347   \n",
       "1  23385  2004            1                 3              583   \n",
       "2  24255  2007            0                 2             4600   \n",
       "3  82612  2008            1                 1              364   \n",
       "4  82645  2008            1                 1              364   \n",
       "\n",
       "      conflict_name  dyad_new_id                                 dyad_name  \\\n",
       "0  Mali: Government        12571                Government of Mali - MUJAO   \n",
       "1   FNI - Civilians         1050                           FNI - Civilians   \n",
       "2     CNDP - PARECO         5210                             CNDP - PARECO   \n",
       "3    India: Kashmir          792  Government of India - Kashmir insurgents   \n",
       "4    India: Kashmir          792  Government of India - Kashmir insurgents   \n",
       "\n",
       "   side_a_new_id  gwnoa  ... date_prec  date_start    date_end deaths_a  \\\n",
       "0             72  432.0  ...         2  2013-01-11  2013-01-12       12   \n",
       "1            606    NaN  ...         2  2004-01-14  2004-01-16        0   \n",
       "2            426    NaN  ...         2  2007-12-13  2007-12-18        0   \n",
       "3            141  750.0  ...         2  2008-03-04  2008-03-05        0   \n",
       "4            141  750.0  ...         2  2008-06-30  2008-07-01        1   \n",
       "\n",
       "   deaths_b deaths_civilians deaths_unknown  low best high  \n",
       "0        16                3              0   31   31   50  \n",
       "1         0              200              0  100  200  200  \n",
       "2         0                4              0    4    4    4  \n",
       "3         2                0              0    2    2    2  \n",
       "4        11                0              0   12   12   12  \n",
       "\n",
       "[5 rows x 42 columns]"
      ]
     },
     "execution_count": 22,
     "metadata": {},
     "output_type": "execute_result"
    }
   ],
   "source": [
    "# View the data\n",
    "df = pd.read_csv('UCDP_Data.csv')\n",
    "df.head()"
   ]
  },
  {
   "cell_type": "code",
   "execution_count": 23,
   "metadata": {},
   "outputs": [
    {
     "name": "stdout",
     "output_type": "stream",
     "text": [
      "<class 'pandas.core.frame.DataFrame'>\n",
      "RangeIndex: 152616 entries, 0 to 152615\n",
      "Data columns (total 42 columns):\n",
      "id                   152616 non-null int64\n",
      "year                 152616 non-null int64\n",
      "active_year          152616 non-null int64\n",
      "type_of_violence     152616 non-null int64\n",
      "conflict_new_id      152616 non-null int64\n",
      "conflict_name        152616 non-null object\n",
      "dyad_new_id          152616 non-null int64\n",
      "dyad_name            152616 non-null object\n",
      "side_a_new_id        152616 non-null int64\n",
      "gwnoa                117295 non-null float64\n",
      "side_a               152616 non-null object\n",
      "side_b_new_id        152616 non-null int64\n",
      "gwnob                804 non-null float64\n",
      "side_b               152616 non-null object\n",
      "number_of_sources    152616 non-null int64\n",
      "source_article       152436 non-null object\n",
      "source_office        47239 non-null object\n",
      "source_date          47239 non-null object\n",
      "source_headline      47239 non-null object\n",
      "source_original      113972 non-null object\n",
      "where_prec           152616 non-null int64\n",
      "where_coordinates    152616 non-null object\n",
      "adm_1                145167 non-null object\n",
      "adm_2                113485 non-null object\n",
      "latitude             152616 non-null float64\n",
      "longitude            152616 non-null float64\n",
      "geom_wkt             152616 non-null object\n",
      "priogrid_gid         152616 non-null int64\n",
      "country              152616 non-null object\n",
      "country_id           152616 non-null int64\n",
      "region               152616 non-null object\n",
      "event_clarity        152616 non-null int64\n",
      "date_prec            152616 non-null int64\n",
      "date_start           152616 non-null object\n",
      "date_end             152616 non-null object\n",
      "deaths_a             152616 non-null int64\n",
      "deaths_b             152616 non-null int64\n",
      "deaths_civilians     152616 non-null int64\n",
      "deaths_unknown       152616 non-null int64\n",
      "low                  152616 non-null int64\n",
      "best                 152616 non-null int64\n",
      "high                 152616 non-null int64\n",
      "dtypes: float64(4), int64(21), object(17)\n",
      "memory usage: 48.9+ MB\n"
     ]
    }
   ],
   "source": [
    "df.info()"
   ]
  },
  {
   "cell_type": "code",
   "execution_count": 24,
   "metadata": {},
   "outputs": [
    {
     "data": {
      "text/html": [
       "<div>\n",
       "<style scoped>\n",
       "    .dataframe tbody tr th:only-of-type {\n",
       "        vertical-align: middle;\n",
       "    }\n",
       "\n",
       "    .dataframe tbody tr th {\n",
       "        vertical-align: top;\n",
       "    }\n",
       "\n",
       "    .dataframe thead th {\n",
       "        text-align: right;\n",
       "    }\n",
       "</style>\n",
       "<table border=\"1\" class=\"dataframe\">\n",
       "  <thead>\n",
       "    <tr style=\"text-align: right;\">\n",
       "      <th></th>\n",
       "      <th>id</th>\n",
       "      <th>year</th>\n",
       "      <th>active_year</th>\n",
       "      <th>type_of_violence</th>\n",
       "      <th>conflict_new_id</th>\n",
       "      <th>dyad_new_id</th>\n",
       "      <th>side_a_new_id</th>\n",
       "      <th>gwnoa</th>\n",
       "      <th>side_b_new_id</th>\n",
       "      <th>gwnob</th>\n",
       "      <th>...</th>\n",
       "      <th>country_id</th>\n",
       "      <th>event_clarity</th>\n",
       "      <th>date_prec</th>\n",
       "      <th>deaths_a</th>\n",
       "      <th>deaths_b</th>\n",
       "      <th>deaths_civilians</th>\n",
       "      <th>deaths_unknown</th>\n",
       "      <th>low</th>\n",
       "      <th>best</th>\n",
       "      <th>high</th>\n",
       "    </tr>\n",
       "  </thead>\n",
       "  <tbody>\n",
       "    <tr>\n",
       "      <th>count</th>\n",
       "      <td>152616.000000</td>\n",
       "      <td>152616.000000</td>\n",
       "      <td>152616.000000</td>\n",
       "      <td>152616.000000</td>\n",
       "      <td>152616.000000</td>\n",
       "      <td>152616.000000</td>\n",
       "      <td>152616.000000</td>\n",
       "      <td>117295.000000</td>\n",
       "      <td>152616.000000</td>\n",
       "      <td>804.000000</td>\n",
       "      <td>...</td>\n",
       "      <td>152616.000000</td>\n",
       "      <td>152616.000000</td>\n",
       "      <td>152616.000000</td>\n",
       "      <td>152616.000000</td>\n",
       "      <td>152616.000000</td>\n",
       "      <td>152616.000000</td>\n",
       "      <td>152616.000000</td>\n",
       "      <td>152616.000000</td>\n",
       "      <td>152616.000000</td>\n",
       "      <td>152616.000000</td>\n",
       "    </tr>\n",
       "    <tr>\n",
       "      <th>mean</th>\n",
       "      <td>132165.416018</td>\n",
       "      <td>2006.186127</td>\n",
       "      <td>0.949665</td>\n",
       "      <td>1.501324</td>\n",
       "      <td>1575.954644</td>\n",
       "      <td>2327.783227</td>\n",
       "      <td>318.752470</td>\n",
       "      <td>621.843668</td>\n",
       "      <td>568.664393</td>\n",
       "      <td>706.804726</td>\n",
       "      <td>...</td>\n",
       "      <td>607.714067</td>\n",
       "      <td>1.099302</td>\n",
       "      <td>1.319809</td>\n",
       "      <td>2.117006</td>\n",
       "      <td>3.040291</td>\n",
       "      <td>5.702148</td>\n",
       "      <td>2.829127</td>\n",
       "      <td>10.988291</td>\n",
       "      <td>13.688571</td>\n",
       "      <td>20.096779</td>\n",
       "    </tr>\n",
       "    <tr>\n",
       "      <th>std</th>\n",
       "      <td>77815.302294</td>\n",
       "      <td>8.387439</td>\n",
       "      <td>0.218637</td>\n",
       "      <td>0.811233</td>\n",
       "      <td>3346.027488</td>\n",
       "      <td>3894.790684</td>\n",
       "      <td>752.492922</td>\n",
       "      <td>179.537356</td>\n",
       "      <td>1163.706882</td>\n",
       "      <td>131.540004</td>\n",
       "      <td>...</td>\n",
       "      <td>187.786824</td>\n",
       "      <td>0.299067</td>\n",
       "      <td>0.789634</td>\n",
       "      <td>53.151444</td>\n",
       "      <td>33.171823</td>\n",
       "      <td>785.632468</td>\n",
       "      <td>151.537960</td>\n",
       "      <td>208.352720</td>\n",
       "      <td>802.968342</td>\n",
       "      <td>1426.008222</td>\n",
       "    </tr>\n",
       "    <tr>\n",
       "      <th>min</th>\n",
       "      <td>4.000000</td>\n",
       "      <td>1989.000000</td>\n",
       "      <td>0.000000</td>\n",
       "      <td>1.000000</td>\n",
       "      <td>205.000000</td>\n",
       "      <td>406.000000</td>\n",
       "      <td>3.000000</td>\n",
       "      <td>2.000000</td>\n",
       "      <td>1.000000</td>\n",
       "      <td>2.000000</td>\n",
       "      <td>...</td>\n",
       "      <td>2.000000</td>\n",
       "      <td>1.000000</td>\n",
       "      <td>1.000000</td>\n",
       "      <td>0.000000</td>\n",
       "      <td>0.000000</td>\n",
       "      <td>0.000000</td>\n",
       "      <td>0.000000</td>\n",
       "      <td>0.000000</td>\n",
       "      <td>0.000000</td>\n",
       "      <td>0.000000</td>\n",
       "    </tr>\n",
       "    <tr>\n",
       "      <th>25%</th>\n",
       "      <td>68450.750000</td>\n",
       "      <td>2000.000000</td>\n",
       "      <td>1.000000</td>\n",
       "      <td>1.000000</td>\n",
       "      <td>333.000000</td>\n",
       "      <td>735.000000</td>\n",
       "      <td>112.000000</td>\n",
       "      <td>530.000000</td>\n",
       "      <td>210.000000</td>\n",
       "      <td>690.000000</td>\n",
       "      <td>...</td>\n",
       "      <td>516.000000</td>\n",
       "      <td>1.000000</td>\n",
       "      <td>1.000000</td>\n",
       "      <td>0.000000</td>\n",
       "      <td>0.000000</td>\n",
       "      <td>0.000000</td>\n",
       "      <td>0.000000</td>\n",
       "      <td>1.000000</td>\n",
       "      <td>1.000000</td>\n",
       "      <td>1.000000</td>\n",
       "    </tr>\n",
       "    <tr>\n",
       "      <th>50%</th>\n",
       "      <td>132972.000000</td>\n",
       "      <td>2007.000000</td>\n",
       "      <td>1.000000</td>\n",
       "      <td>1.000000</td>\n",
       "      <td>364.000000</td>\n",
       "      <td>792.000000</td>\n",
       "      <td>130.000000</td>\n",
       "      <td>700.000000</td>\n",
       "      <td>303.000000</td>\n",
       "      <td>770.000000</td>\n",
       "      <td>...</td>\n",
       "      <td>666.000000</td>\n",
       "      <td>1.000000</td>\n",
       "      <td>1.000000</td>\n",
       "      <td>0.000000</td>\n",
       "      <td>0.000000</td>\n",
       "      <td>0.000000</td>\n",
       "      <td>0.000000</td>\n",
       "      <td>2.000000</td>\n",
       "      <td>2.000000</td>\n",
       "      <td>3.000000</td>\n",
       "    </tr>\n",
       "    <tr>\n",
       "      <th>75%</th>\n",
       "      <td>196191.250000</td>\n",
       "      <td>2014.000000</td>\n",
       "      <td>1.000000</td>\n",
       "      <td>2.000000</td>\n",
       "      <td>506.000000</td>\n",
       "      <td>987.000000</td>\n",
       "      <td>154.000000</td>\n",
       "      <td>750.000000</td>\n",
       "      <td>497.000000</td>\n",
       "      <td>770.000000</td>\n",
       "      <td>...</td>\n",
       "      <td>750.000000</td>\n",
       "      <td>1.000000</td>\n",
       "      <td>1.000000</td>\n",
       "      <td>1.000000</td>\n",
       "      <td>2.000000</td>\n",
       "      <td>1.000000</td>\n",
       "      <td>0.000000</td>\n",
       "      <td>6.000000</td>\n",
       "      <td>6.000000</td>\n",
       "      <td>7.000000</td>\n",
       "    </tr>\n",
       "    <tr>\n",
       "      <th>max</th>\n",
       "      <td>285772.000000</td>\n",
       "      <td>2018.000000</td>\n",
       "      <td>1.000000</td>\n",
       "      <td>3.000000</td>\n",
       "      <td>14695.000000</td>\n",
       "      <td>16002.000000</td>\n",
       "      <td>7415.000000</td>\n",
       "      <td>910.000000</td>\n",
       "      <td>7414.000000</td>\n",
       "      <td>800.000000</td>\n",
       "      <td>...</td>\n",
       "      <td>940.000000</td>\n",
       "      <td>2.000000</td>\n",
       "      <td>5.000000</td>\n",
       "      <td>10000.000000</td>\n",
       "      <td>9505.000000</td>\n",
       "      <td>300557.000000</td>\n",
       "      <td>48183.000000</td>\n",
       "      <td>48183.000000</td>\n",
       "      <td>300557.000000</td>\n",
       "      <td>547075.000000</td>\n",
       "    </tr>\n",
       "  </tbody>\n",
       "</table>\n",
       "<p>8 rows × 25 columns</p>\n",
       "</div>"
      ],
      "text/plain": [
       "                  id           year    active_year  type_of_violence  \\\n",
       "count  152616.000000  152616.000000  152616.000000     152616.000000   \n",
       "mean   132165.416018    2006.186127       0.949665          1.501324   \n",
       "std     77815.302294       8.387439       0.218637          0.811233   \n",
       "min         4.000000    1989.000000       0.000000          1.000000   \n",
       "25%     68450.750000    2000.000000       1.000000          1.000000   \n",
       "50%    132972.000000    2007.000000       1.000000          1.000000   \n",
       "75%    196191.250000    2014.000000       1.000000          2.000000   \n",
       "max    285772.000000    2018.000000       1.000000          3.000000   \n",
       "\n",
       "       conflict_new_id    dyad_new_id  side_a_new_id          gwnoa  \\\n",
       "count    152616.000000  152616.000000  152616.000000  117295.000000   \n",
       "mean       1575.954644    2327.783227     318.752470     621.843668   \n",
       "std        3346.027488    3894.790684     752.492922     179.537356   \n",
       "min         205.000000     406.000000       3.000000       2.000000   \n",
       "25%         333.000000     735.000000     112.000000     530.000000   \n",
       "50%         364.000000     792.000000     130.000000     700.000000   \n",
       "75%         506.000000     987.000000     154.000000     750.000000   \n",
       "max       14695.000000   16002.000000    7415.000000     910.000000   \n",
       "\n",
       "       side_b_new_id       gwnob  ...     country_id  event_clarity  \\\n",
       "count  152616.000000  804.000000  ...  152616.000000  152616.000000   \n",
       "mean      568.664393  706.804726  ...     607.714067       1.099302   \n",
       "std      1163.706882  131.540004  ...     187.786824       0.299067   \n",
       "min         1.000000    2.000000  ...       2.000000       1.000000   \n",
       "25%       210.000000  690.000000  ...     516.000000       1.000000   \n",
       "50%       303.000000  770.000000  ...     666.000000       1.000000   \n",
       "75%       497.000000  770.000000  ...     750.000000       1.000000   \n",
       "max      7414.000000  800.000000  ...     940.000000       2.000000   \n",
       "\n",
       "           date_prec       deaths_a       deaths_b  deaths_civilians  \\\n",
       "count  152616.000000  152616.000000  152616.000000     152616.000000   \n",
       "mean        1.319809       2.117006       3.040291          5.702148   \n",
       "std         0.789634      53.151444      33.171823        785.632468   \n",
       "min         1.000000       0.000000       0.000000          0.000000   \n",
       "25%         1.000000       0.000000       0.000000          0.000000   \n",
       "50%         1.000000       0.000000       0.000000          0.000000   \n",
       "75%         1.000000       1.000000       2.000000          1.000000   \n",
       "max         5.000000   10000.000000    9505.000000     300557.000000   \n",
       "\n",
       "       deaths_unknown            low           best           high  \n",
       "count   152616.000000  152616.000000  152616.000000  152616.000000  \n",
       "mean         2.829127      10.988291      13.688571      20.096779  \n",
       "std        151.537960     208.352720     802.968342    1426.008222  \n",
       "min          0.000000       0.000000       0.000000       0.000000  \n",
       "25%          0.000000       1.000000       1.000000       1.000000  \n",
       "50%          0.000000       2.000000       2.000000       3.000000  \n",
       "75%          0.000000       6.000000       6.000000       7.000000  \n",
       "max      48183.000000   48183.000000  300557.000000  547075.000000  \n",
       "\n",
       "[8 rows x 25 columns]"
      ]
     },
     "execution_count": 24,
     "metadata": {},
     "output_type": "execute_result"
    }
   ],
   "source": [
    "df.describe()"
   ]
  },
  {
   "cell_type": "code",
   "execution_count": 25,
   "metadata": {},
   "outputs": [
    {
     "data": {
      "image/png": "[encoded data removed]",
      "text/plain": [
       "<Figure size 1800x720 with 2 Axes>"
      ]
     },
     "metadata": {
      "needs_background": "light"
     },
     "output_type": "display_data"
    }
   ],
   "source": [
    "msno.matrix(df.sample(250));"
   ]
  },
  {
   "cell_type": "code",
   "execution_count": 26,
   "metadata": {},
   "outputs": [
    {
     "data": {
      "text/plain": [
       "151812"
      ]
     },
     "execution_count": 26,
     "metadata": {},
     "output_type": "execute_result"
    }
   ],
   "source": [
    "sum(df.gwnob.isna())"
   ]
  },
  {
   "cell_type": "code",
   "execution_count": 27,
   "metadata": {},
   "outputs": [
    {
     "data": {
      "image/png": "[encoded data removed]",
      "text/plain": [
       "<Figure size 1440x864 with 1 Axes>"
      ]
     },
     "metadata": {
      "needs_background": "light"
     },
     "output_type": "display_data"
    }
   ],
   "source": [
    "msno.heatmap(df);"
   ]
  },
  {
   "cell_type": "markdown",
   "metadata": {},
   "source": [
    "^ **Nullity correlation ranges from -1 (if one variable appears the other definitely does not) to 0 (variables appearing or not appearing have no effect on one another) to 1 (if one variable appears the other definitely also does).**"
   ]
  },
  {
   "cell_type": "code",
   "execution_count": 28,
   "metadata": {},
   "outputs": [
    {
     "data": {
      "text/plain": [
       "array([1, 0])"
      ]
     },
     "execution_count": 28,
     "metadata": {},
     "output_type": "execute_result"
    }
   ],
   "source": [
    "df.active_year.unique()"
   ]
  },
  {
   "cell_type": "markdown",
   "metadata": {},
   "source": [
    "I guess this column determines if the conflict is present in the given year."
   ]
  },
  {
   "cell_type": "code",
   "execution_count": 29,
   "metadata": {},
   "outputs": [
    {
     "data": {
      "text/plain": [
       "array([1, 3, 2])"
      ]
     },
     "execution_count": 29,
     "metadata": {},
     "output_type": "execute_result"
    }
   ],
   "source": [
    "df.type_of_violence.unique()"
   ]
  },
  {
   "cell_type": "code",
   "execution_count": 30,
   "metadata": {},
   "outputs": [
    {
     "data": {
      "text/plain": [
       "Afghanistan: Government      25936\n",
       "India: Kashmir                6051\n",
       "Iraq: Government              5383\n",
       "Turkey: Kurdistan             4682\n",
       "Sri Lanka (Ceylon): Eelam     4011\n",
       "Algeria: Government           3793\n",
       "Pakistan: Government          3721\n",
       "Nepal: Government             3701\n",
       "Somalia: Government           3676\n",
       "Colombia: Government          3456\n",
       "Name: conflict_name, dtype: int64"
      ]
     },
     "execution_count": 30,
     "metadata": {},
     "output_type": "execute_result"
    }
   ],
   "source": [
    "df.conflict_name.value_counts().head(10)"
   ]
  },
  {
   "cell_type": "code",
   "execution_count": 31,
   "metadata": {},
   "outputs": [
    {
     "data": {
      "text/plain": [
       "Government of Afghanistan - Taleban         24164\n",
       "Government of India - Kashmir insurgents     6051\n",
       "Government of Iraq - IS                      4827\n",
       "Government of Turkey - PKK                   4682\n",
       "Government of Sri Lanka - LTTE               4008\n",
       "Government of Nepal - CPN-M                  3701\n",
       "Government of Pakistan - TTP                 3553\n",
       "Government of Somalia - Al-Shabaab           3112\n",
       "Government of Colombia - FARC                2731\n",
       "IS - Civilians                               1972\n",
       "Name: dyad_name, dtype: int64"
      ]
     },
     "execution_count": 31,
     "metadata": {},
     "output_type": "execute_result"
    }
   ],
   "source": [
    "df.dyad_name.value_counts().head(10)"
   ]
  },
  {
   "cell_type": "code",
   "execution_count": 32,
   "metadata": {},
   "outputs": [
    {
     "data": {
      "text/plain": [
       "700.0    27464\n",
       "750.0    10704\n",
       "645.0     5630\n",
       "640.0     4809\n",
       "790.0     4526\n",
       "Name: gwnoa, dtype: int64"
      ]
     },
     "execution_count": 32,
     "metadata": {},
     "output_type": "execute_result"
    }
   ],
   "source": [
    "df.gwnoa.value_counts().head()"
   ]
  },
  {
   "cell_type": "code",
   "execution_count": 33,
   "metadata": {},
   "outputs": [
    {
     "data": {
      "text/plain": [
       "Afghanistan    28929\n",
       "India          15331\n",
       "Iraq            7473\n",
       "Pakistan        5754\n",
       "Nepal           5654\n",
       "Name: country, dtype: int64"
      ]
     },
     "execution_count": 33,
     "metadata": {},
     "output_type": "execute_result"
    }
   ],
   "source": [
    "df.country.value_counts().head()"
   ]
  },
  {
   "cell_type": "code",
   "execution_count": 34,
   "metadata": {},
   "outputs": [
    {
     "data": {
      "text/plain": [
       "770.0    505\n",
       "645.0     95\n",
       "690.0     80\n",
       "530.0     34\n",
       "625.0     27\n",
       "Name: gwnob, dtype: int64"
      ]
     },
     "execution_count": 34,
     "metadata": {},
     "output_type": "execute_result"
    }
   ],
   "source": [
    "df.gwnob.value_counts().head()"
   ]
  },
  {
   "cell_type": "code",
   "execution_count": 35,
   "metadata": {},
   "outputs": [
    {
     "data": {
      "text/plain": [
       "-1      105377\n",
       " 1       36086\n",
       " 2        7082\n",
       " 3        2158\n",
       " 4         816\n",
       " 5         399\n",
       " 6         233\n",
       " 7         137\n",
       " 8          81\n",
       " 9          64\n",
       " 10         54\n",
       " 11         32\n",
       " 12         21\n",
       " 14         19\n",
       " 18          8\n",
       " 13          8\n",
       " 15          8\n",
       " 17          7\n",
       " 19          5\n",
       " 16          4\n",
       " 20          2\n",
       " 22          2\n",
       " 23          2\n",
       " 25          2\n",
       " 26          2\n",
       " 44          1\n",
       " 363         1\n",
       " 21          1\n",
       " 33          1\n",
       " 35          1\n",
       " 39          1\n",
       " 67          1\n",
       "Name: number_of_sources, dtype: int64"
      ]
     },
     "execution_count": 35,
     "metadata": {},
     "output_type": "execute_result"
    }
   ],
   "source": [
    "df.number_of_sources.value_counts()"
   ]
  },
  {
   "cell_type": "code",
   "execution_count": 37,
   "metadata": {},
   "outputs": [
    {
     "data": {
      "text/plain": [
       "array([2013, 2004, 2007, 2008, 2011, 1997, 2010, 2003, 2012, 1992, 2014,\n",
       "       1989, 2015, 2016, 2017, 1996, 2001, 2006, 1991, 1998, 2002, 2009,\n",
       "       1990, 1993, 1994, 1999, 2005, 2000, 1995, 2018])"
      ]
     },
     "execution_count": 37,
     "metadata": {},
     "output_type": "execute_result"
    }
   ],
   "source": [
    "df.year.unique()"
   ]
  },
  {
   "cell_type": "code",
   "execution_count": 38,
   "metadata": {},
   "outputs": [
    {
     "data": {
      "text/plain": [
       "2015-12-31    293\n",
       "1753-01-01    259\n",
       "2016-08-01    220\n",
       "2018-07-03    139\n",
       "2016-06-30    137\n",
       "Name: source_date, dtype: int64"
      ]
     },
     "execution_count": 38,
     "metadata": {},
     "output_type": "execute_result"
    }
   ],
   "source": [
    "df.source_date.value_counts().head()"
   ]
  },
  {
   "cell_type": "code",
   "execution_count": 39,
   "metadata": {},
   "outputs": [
    {
     "data": {
      "text/plain": [
       "India          263\n",
       "Pakistan        22\n",
       "Afghanistan      3\n",
       "Somalia          1\n",
       "Ethiopia         1\n",
       "Turkey           1\n",
       "Iraq             1\n",
       "Sudan            1\n",
       "Name: country, dtype: int64"
      ]
     },
     "execution_count": 39,
     "metadata": {},
     "output_type": "execute_result"
    }
   ],
   "source": [
    "df.country[df.source_date == '2015-12-31'].value_counts()"
   ]
  },
  {
   "cell_type": "code",
   "execution_count": 40,
   "metadata": {},
   "outputs": [
    {
     "data": {
      "text/plain": [
       "Agence France Presse          5\n",
       "Jeune Afrique Blog Défense    1\n",
       "Reuters News                  1\n",
       "dtype: int64"
      ]
     },
     "execution_count": 40,
     "metadata": {},
     "output_type": "execute_result"
    }
   ],
   "source": [
    "pd.Series(df.source_office.loc[0].split(';')).value_counts()"
   ]
  },
  {
   "cell_type": "code",
   "execution_count": 41,
   "metadata": {},
   "outputs": [
    {
     "data": {
      "text/plain": [
       "1    62495\n",
       "3    34140\n",
       "2    27797\n",
       "4    20396\n",
       "5     5065\n",
       "6     2513\n",
       "7      210\n",
       "Name: where_prec, dtype: int64"
      ]
     },
     "execution_count": 41,
     "metadata": {},
     "output_type": "execute_result"
    }
   ],
   "source": [
    "df.where_prec.value_counts()"
   ]
  },
  {
   "cell_type": "code",
   "execution_count": 42,
   "metadata": {},
   "outputs": [
    {
     "data": {
      "text/plain": [
       "700    28929\n",
       "750    15331\n",
       "645     7473\n",
       "770     5754\n",
       "790     5654\n",
       "Name: country_id, dtype: int64"
      ]
     },
     "execution_count": 42,
     "metadata": {},
     "output_type": "execute_result"
    }
   ],
   "source": [
    "df.country_id.value_counts().head()"
   ]
  },
  {
   "cell_type": "code",
   "execution_count": 43,
   "metadata": {},
   "outputs": [
    {
     "data": {
      "text/plain": [
       "Asia           72553\n",
       "Africa         40404\n",
       "Middle East    19984\n",
       "Americas       10577\n",
       "Europe          9098\n",
       "Name: region, dtype: int64"
      ]
     },
     "execution_count": 43,
     "metadata": {},
     "output_type": "execute_result"
    }
   ],
   "source": [
    "df.region.value_counts()"
   ]
  },
  {
   "cell_type": "code",
   "execution_count": 44,
   "metadata": {},
   "outputs": [
    {
     "data": {
      "text/plain": [
       "array([1, 2])"
      ]
     },
     "execution_count": 44,
     "metadata": {},
     "output_type": "execute_result"
    }
   ],
   "source": [
    "df.event_clarity.unique()"
   ]
  },
  {
   "cell_type": "code",
   "execution_count": 45,
   "metadata": {},
   "outputs": [
    {
     "data": {
      "text/plain": [
       "id                                                               45108\n",
       "year                                                              1994\n",
       "active_year                                                          1\n",
       "type_of_violence                                                     3\n",
       "conflict_new_id                                                    472\n",
       "conflict_name                         Government of Rwanda - Civilians\n",
       "dyad_new_id                                                        939\n",
       "dyad_name                             Government of Rwanda - Civilians\n",
       "side_a_new_id                                                       94\n",
       "gwnoa                                                              517\n",
       "side_a                                            Government of Rwanda\n",
       "side_b_new_id                                                        1\n",
       "gwnob                                                              NaN\n",
       "side_b                                                       Civilians\n",
       "number_of_sources                                                    4\n",
       "source_article       \"The Rwandan Crisis: History of a genocide,199...\n",
       "source_office        The Rwandan Crisis: History of a genocide;HRW;...\n",
       "source_date                1995-01-01;1999-01-01;1994-11-25;1998-01-01\n",
       "source_headline      The Rwandan Crisis: History of a genocide;Leav...\n",
       "source_original                                                    NaN\n",
       "where_prec                                                           6\n",
       "where_coordinates                                               Rwanda\n",
       "adm_1                                                              NaN\n",
       "adm_2                                                              NaN\n",
       "latitude                                                            -2\n",
       "longitude                                                           30\n",
       "geom_wkt                                   POINT (30.000000 -2.000000)\n",
       "priogrid_gid                                                    127141\n",
       "country                                                         Rwanda\n",
       "country_id                                                         517\n",
       "region                                                          Africa\n",
       "event_clarity                                                        2\n",
       "date_prec                                                            5\n",
       "date_start                                                  1994-04-06\n",
       "date_end                                                    1994-07-04\n",
       "deaths_a                                                             0\n",
       "deaths_b                                                             0\n",
       "deaths_civilians                                                300557\n",
       "deaths_unknown                                                       0\n",
       "low                                                                  0\n",
       "best                                                            300557\n",
       "high                                                            547075\n",
       "Name: 13766, dtype: object"
      ]
     },
     "execution_count": 45,
     "metadata": {},
     "output_type": "execute_result"
    }
   ],
   "source": [
    "df.loc[df.high.idxmax()]"
   ]
  },
  {
   "cell_type": "code",
   "execution_count": 46,
   "metadata": {},
   "outputs": [
    {
     "data": {
      "text/plain": [
       "547075"
      ]
     },
     "execution_count": 46,
     "metadata": {},
     "output_type": "execute_result"
    }
   ],
   "source": [
    "max(df.high)"
   ]
  },
  {
   "cell_type": "code",
   "execution_count": 47,
   "metadata": {},
   "outputs": [
    {
     "data": {
      "text/plain": [
       "0         French Defence Minister Jean-Yves Le Drian;  r...\n",
       "1                                            local official\n",
       "2                                                       NaN\n",
       "3                                                      SATP\n",
       "4                                                      army\n",
       "5               senior military official, Cihan news agency\n",
       "6                                                      SATP\n",
       "7                         deputy UN spokesman Eduardo Buey.\n",
       "8                                        emergency services\n",
       "9                                                       NaN\n",
       "10                                                      NaN\n",
       "11                                                      NaN\n",
       "12                                       Officials /Taleban\n",
       "13                                                     ONLF\n",
       "14                                         defence ministry\n",
       "15                                         hospital sources\n",
       "16                                                      NaN\n",
       "17                                                   Police\n",
       "18                                                  Taleban\n",
       "19                                       Military spokesman\n",
       "20                                       Military spokesman\n",
       "21                                                   police\n",
       "22                                           Police/Taleban\n",
       "23                                                   police\n",
       "24                                 Police, RENAMO, Mediafax\n",
       "25                                         military source \n",
       "26                         National Antiterrorist Committee\n",
       "27                                                 Military\n",
       "28                                                   Doctor\n",
       "29                                                   Police\n",
       "                                ...                        \n",
       "152586                                             resident\n",
       "152587                                             NY Times\n",
       "152588                                       the Daily Star\n",
       "152589                                               police\n",
       "152590                                               police\n",
       "152591                                               police\n",
       "152592                                              Police \n",
       "152593                                       The Daily Star\n",
       "152594                                       The Daily Star\n",
       "152595                                              Police \n",
       "152596                                       army spokesman\n",
       "152597                                                ACJPS\n",
       "152598                                               police\n",
       "152599                                        Radio Andalus\n",
       "152600                                   military official \n",
       "152601                    spokesman for Nangarhar governor \n",
       "152602                     provincial government spokesman \n",
       "152603                                                  NaN\n",
       "152604                         district chief, local police\n",
       "152605                     spokesman of Nangarhar governor \n",
       "152606    provincial council chief, Taleban, provincial ...\n",
       "152607                                governor's spokesman \n",
       "152608                                             military\n",
       "152609                     spokesman of Nangarhar governor \n",
       "152610                     spokesman of Nangarhar governor \n",
       "152611                                       army spokesman\n",
       "152612    provincial council chief, Taleban, provincial ...\n",
       "152613                                             NY Times\n",
       "152614                                             NY Times\n",
       "152615    NY Times, Paktia HPC head, security officials,...\n",
       "Name: source_original, Length: 152616, dtype: object"
      ]
     },
     "execution_count": 47,
     "metadata": {},
     "output_type": "execute_result"
    }
   ],
   "source": [
    "df.source_original"
   ]
  },
  {
   "cell_type": "markdown",
   "metadata": {},
   "source": [
    "## Clean the data"
   ]
  },
  {
   "cell_type": "markdown",
   "metadata": {},
   "source": [
    "* Convert date_start and date_end  and source_date into datetime.\n",
    "* Create column for differences in low and high columns. Name it diff\n",
    "* Create duration of violence column, name it duration \n",
    "* All the values in the sources' columns are represented as lists, make that seperate rows (eg: new dataframe called 'sources' were these entries are split up).\n",
    "* Can drop the id column - not too much use.\n",
    "* Create reliable source, column > 3 sources.\n",
    "* The gwnob column contains very many null values, since I wont use gwnoa and gwnob column anyways, I will drop them.\n",
    "* Also drop the dyad_new_id, side_a_new_id and side_b_new_id columns."
   ]
  },
  {
   "cell_type": "markdown",
   "metadata": {},
   "source": [
    "##### Drop id column"
   ]
  },
  {
   "cell_type": "code",
   "execution_count": 48,
   "metadata": {},
   "outputs": [
    {
     "data": {
      "text/plain": [
       "\"# the ID column is unimportant, get rid of it\\ndf.drop('id',axis=1,inplace=True)\\ndf.head()\""
      ]
     },
     "execution_count": 48,
     "metadata": {},
     "output_type": "execute_result"
    }
   ],
   "source": [
    "'''# the ID column is unimportant, get rid of it\n",
    "df.drop('id',axis=1,inplace=True)\n",
    "df.head()'''"
   ]
  },
  {
   "cell_type": "code",
   "execution_count": null,
   "metadata": {},
   "outputs": [],
   "source": []
  }
 ],
 "metadata": {
  "kernelspec": {
   "display_name": "Python 3",
   "language": "python",
   "name": "python3"
  },
  "language_info": {
   "codemirror_mode": {
    "name": "ipython",
    "version": 3
   },
   "file_extension": ".py",
   "mimetype": "text/x-python",
   "name": "python",
   "nbconvert_exporter": "python",
   "pygments_lexer": "ipython3",
   "version": "3.7.3"
  }
 },
 "nbformat": 4,
 "nbformat_minor": 2
}
